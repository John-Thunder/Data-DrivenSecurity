{
 "cells": [
  {
   "cell_type": "code",
   "execution_count": 2,
   "metadata": {},
   "outputs": [
    {
     "name": "stdout",
     "output_type": "stream",
     "text": [
      ",IP,Reliability,Risk,Type,Country,Locale,Coords,x\n",
      "0,222.76.212.189,4,2,Scanning Host,CN,Xiamen,\"24.4797992706,118.08190155\",11\n",
      "1,222.76.212.185,4,2,Scanning Host,CN,Xiamen,\"24.4797992706,118.08190155\",11\n",
      "2,222.76.212.186,4,2,Scanning Host,CN,Xiamen,\"24.4797992706,118.08190155\",11\n",
      "3,5.34.246.67,6,3,Spamming,US,,\"38.0,-97.0\",12\n",
      "4,178.94.97.176,4,5,Scanning Host,UA,Merefa,\"49.8230018616,36.0507011414\",11\n"
     ]
    }
   ],
   "source": [
    "%matplotlib inline\n",
    "import os\n",
    "import sys\n",
    "import pandas as pd\n",
    "avRep = \"data/reputation.data\"\n",
    "av = pd.read_csv(avRep, sep=\"#\", header=None)\n",
    "\n",
    "av.columns = [\"IP\",\"Reliability\",\"Risk\",\"Type\",\"Country\",\n",
    "              \"Locale\",\"Coords\",\"x\"]\n",
    "#print(av) # take a quick look at the data structure\n",
    "av.head().to_csv(sys.stdout)"
   ]
  },
  {
   "cell_type": "code",
   "execution_count": 3,
   "metadata": {},
   "outputs": [
    {
     "data": {
      "text/html": [
       "<table border=\"1\" class=\"dataframe\">\n",
       "  <thead>\n",
       "    <tr style=\"text-align: right;\">\n",
       "      <th></th>\n",
       "      <th>IP</th>\n",
       "      <th>Reliability</th>\n",
       "      <th>Risk</th>\n",
       "      <th>Type</th>\n",
       "      <th>Country</th>\n",
       "      <th>Locale</th>\n",
       "      <th>Coords</th>\n",
       "      <th>x</th>\n",
       "    </tr>\n",
       "  </thead>\n",
       "  <tbody>\n",
       "    <tr>\n",
       "      <th>0</th>\n",
       "      <td>222.76.212.189</td>\n",
       "      <td>4</td>\n",
       "      <td>2</td>\n",
       "      <td>Scanning Host</td>\n",
       "      <td>CN</td>\n",
       "      <td>Xiamen</td>\n",
       "      <td>24.4797992706,118.08190155</td>\n",
       "      <td>11</td>\n",
       "    </tr>\n",
       "    <tr>\n",
       "      <th>1</th>\n",
       "      <td>222.76.212.185</td>\n",
       "      <td>4</td>\n",
       "      <td>2</td>\n",
       "      <td>Scanning Host</td>\n",
       "      <td>CN</td>\n",
       "      <td>Xiamen</td>\n",
       "      <td>24.4797992706,118.08190155</td>\n",
       "      <td>11</td>\n",
       "    </tr>\n",
       "    <tr>\n",
       "      <th>2</th>\n",
       "      <td>222.76.212.186</td>\n",
       "      <td>4</td>\n",
       "      <td>2</td>\n",
       "      <td>Scanning Host</td>\n",
       "      <td>CN</td>\n",
       "      <td>Xiamen</td>\n",
       "      <td>24.4797992706,118.08190155</td>\n",
       "      <td>11</td>\n",
       "    </tr>\n",
       "    <tr>\n",
       "      <th>3</th>\n",
       "      <td>5.34.246.67</td>\n",
       "      <td>6</td>\n",
       "      <td>3</td>\n",
       "      <td>Spamming</td>\n",
       "      <td>US</td>\n",
       "      <td>NaN</td>\n",
       "      <td>38.0,-97.0</td>\n",
       "      <td>12</td>\n",
       "    </tr>\n",
       "    <tr>\n",
       "      <th>4</th>\n",
       "      <td>178.94.97.176</td>\n",
       "      <td>4</td>\n",
       "      <td>5</td>\n",
       "      <td>Scanning Host</td>\n",
       "      <td>UA</td>\n",
       "      <td>Merefa</td>\n",
       "      <td>49.8230018616,36.0507011414</td>\n",
       "      <td>11</td>\n",
       "    </tr>\n",
       "    <tr>\n",
       "      <th>5</th>\n",
       "      <td>66.2.49.232</td>\n",
       "      <td>4</td>\n",
       "      <td>2</td>\n",
       "      <td>Scanning Host</td>\n",
       "      <td>US</td>\n",
       "      <td>Union City</td>\n",
       "      <td>37.5962982178,-122.065696716</td>\n",
       "      <td>11</td>\n",
       "    </tr>\n",
       "    <tr>\n",
       "      <th>6</th>\n",
       "      <td>222.76.212.173</td>\n",
       "      <td>4</td>\n",
       "      <td>2</td>\n",
       "      <td>Scanning Host</td>\n",
       "      <td>CN</td>\n",
       "      <td>Xiamen</td>\n",
       "      <td>24.4797992706,118.08190155</td>\n",
       "      <td>11</td>\n",
       "    </tr>\n",
       "    <tr>\n",
       "      <th>7</th>\n",
       "      <td>222.76.212.172</td>\n",
       "      <td>4</td>\n",
       "      <td>2</td>\n",
       "      <td>Scanning Host</td>\n",
       "      <td>CN</td>\n",
       "      <td>Xiamen</td>\n",
       "      <td>24.4797992706,118.08190155</td>\n",
       "      <td>11</td>\n",
       "    </tr>\n",
       "    <tr>\n",
       "      <th>8</th>\n",
       "      <td>222.76.212.171</td>\n",
       "      <td>4</td>\n",
       "      <td>2</td>\n",
       "      <td>Scanning Host</td>\n",
       "      <td>CN</td>\n",
       "      <td>Xiamen</td>\n",
       "      <td>24.4797992706,118.08190155</td>\n",
       "      <td>11</td>\n",
       "    </tr>\n",
       "    <tr>\n",
       "      <th>9</th>\n",
       "      <td>174.142.46.19</td>\n",
       "      <td>6</td>\n",
       "      <td>3</td>\n",
       "      <td>Spamming</td>\n",
       "      <td>NaN</td>\n",
       "      <td>NaN</td>\n",
       "      <td>24.4797992706,118.08190155</td>\n",
       "      <td>12</td>\n",
       "    </tr>\n",
       "  </tbody>\n",
       "</table>"
      ],
      "text/plain": [
       "<IPython.core.display.HTML object>"
      ]
     },
     "execution_count": 3,
     "metadata": {},
     "output_type": "execute_result"
    }
   ],
   "source": [
    "from IPython.display import HTML \n",
    "HTML(av.head(10).to_html())"
   ]
  },
  {
   "cell_type": "code",
   "execution_count": 4,
   "metadata": {},
   "outputs": [
    {
     "data": {
      "text/plain": [
       "count    258626.000000\n",
       "mean          2.798040\n",
       "std           1.130419\n",
       "min           1.000000\n",
       "25%           2.000000\n",
       "50%           2.000000\n",
       "75%           4.000000\n",
       "max          10.000000\n",
       "Name: Reliability, dtype: float64"
      ]
     },
     "execution_count": 4,
     "metadata": {},
     "output_type": "execute_result"
    }
   ],
   "source": [
    "av['Reliability'].describe()"
   ]
  },
  {
   "cell_type": "code",
   "execution_count": 5,
   "metadata": {},
   "outputs": [
    {
     "data": {
      "text/plain": [
       "count    258626.000000\n",
       "mean          2.221362\n",
       "std           0.531571\n",
       "min           1.000000\n",
       "25%           2.000000\n",
       "50%           2.000000\n",
       "75%           2.000000\n",
       "max           7.000000\n",
       "Name: Risk, dtype: float64"
      ]
     },
     "execution_count": 5,
     "metadata": {},
     "output_type": "execute_result"
    }
   ],
   "source": [
    "av['Risk'].describe()"
   ]
  },
  {
   "cell_type": "code",
   "execution_count": 6,
   "metadata": {},
   "outputs": [
    {
     "name": "stdout",
     "output_type": "stream",
     "text": [
      "1       5612\n",
      "2     149117\n",
      "3      10892\n",
      "4      87040\n",
      "5          7\n",
      "6       4758\n",
      "7        297\n",
      "8         21\n",
      "9        686\n",
      "10       196\n",
      "dtype: int64\n",
      "1        39\n",
      "2    213852\n",
      "3     33719\n",
      "4      9588\n",
      "5      1328\n",
      "6        90\n",
      "7        10\n",
      "dtype: int64\n",
      "APT;Malware Domain                  1\n",
      "C&C                               610\n",
      "C&C;Malware Domain                 31\n",
      "C&C;Malware IP                     20\n",
      "C&C;Scanning Host                   7\n",
      "Malicious Host                   3770\n",
      "Malicious Host;Malware Domain       4\n",
      "Malicious Host;Malware IP           2\n",
      "Malicious Host;Scanning Host      163\n",
      "Malware Domain                   9274\n",
      "dtype: int64\n",
      "A1     267\n",
      "A2       2\n",
      "AE    1827\n",
      "AL       4\n",
      "AM       6\n",
      "AN       3\n",
      "AO     256\n",
      "AR    3046\n",
      "AT      51\n",
      "AU     155\n",
      "dtype: int64\n"
     ]
    },
    {
     "name": "stderr",
     "output_type": "stream",
     "text": [
      "C:\\Users\\wnz9u\\Anaconda3\\lib\\site-packages\\ipykernel_launcher.py:2: FutureWarning: Categorical.from_array is deprecated, use Categorical instead\n",
      "  \n"
     ]
    }
   ],
   "source": [
    "def factor_col(col):\n",
    "    factor = pd.Categorical.from_array(col)\n",
    "    return pd.value_counts(factor,sort=True).reindex(factor.categories)\n",
    "\n",
    "rel_ct = pd.value_counts(av['Reliability'])\n",
    "risk_ct = pd.value_counts(av['Risk'])\n",
    "type_ct = pd.value_counts(av['Type'])\n",
    "country_ct = pd.value_counts(av['Country'])\n",
    "\n",
    "print (factor_col(av['Reliability']))\n",
    "print (factor_col(av['Risk']))\n",
    "print (factor_col(av['Type']).head(n=10))\n",
    "print (factor_col(av['Country']).head(n=10))"
   ]
  },
  {
   "cell_type": "code",
   "execution_count": 7,
   "metadata": {},
   "outputs": [
    {
     "data": {
      "image/png": "[encoded data removed]",
      "text/plain": [
       "<matplotlib.figure.Figure at 0x1a5094a8c18>"
      ]
     },
     "metadata": {},
     "output_type": "display_data"
    }
   ],
   "source": [
    "# Listing 3-14\n",
    "# require object: av (3-5)\n",
    "# See corresponding output in Figure 3-5\n",
    "# NOTE: Notice the significant differnce in the Python graph in that the \n",
    "#       blank/empty country code entries are not in the graph\n",
    "# need some functions from matplotlib to help reduce 'chart junk'\n",
    "import matplotlib.pyplot as plt\n",
    "\n",
    "# sort by country\n",
    "country_ct = pd.value_counts(av['Country'])\n",
    "\n",
    "# plot the data\n",
    "# reduce chart junk\n",
    "plt.axes(frameon=0)\n",
    "country_ct[:20].plot(kind='bar', \n",
    "   rot=0, title=\"Summary By Country\", figsize=(8,5)).grid(False)\n",
    "\n"
   ]
  },
  {
   "cell_type": "code",
   "execution_count": 8,
   "metadata": {},
   "outputs": [
    {
     "name": "stderr",
     "output_type": "stream",
     "text": [
      "C:\\Users\\wnz9u\\Anaconda3\\lib\\site-packages\\ipykernel_launcher.py:2: FutureWarning: Categorical.from_array is deprecated, use Categorical instead\n",
      "  \n"
     ]
    },
    {
     "data": {
      "image/png": "[encoded data removed]",
      "text/plain": [
       "<matplotlib.figure.Figure at 0x1a50ec5deb8>"
      ]
     },
     "metadata": {},
     "output_type": "display_data"
    }
   ],
   "source": [
    "# Listing 3-15\n",
    "# requires packages: matplotlib\n",
    "# require object: av (3-5), factor_col (3-10)\n",
    "# See corresponding output in Figure 3-6\n",
    "plt.axes(frameon=0) # reduce chart junk\n",
    "factor_col(av['Reliability']).plot(kind='bar', rot=0,\n",
    "           title=\"Summary By 'Reliability'\", figsize=(8,5)).grid(False)\n"
   ]
  },
  {
   "cell_type": "code",
   "execution_count": 9,
   "metadata": {},
   "outputs": [
    {
     "name": "stderr",
     "output_type": "stream",
     "text": [
      "C:\\Users\\wnz9u\\Anaconda3\\lib\\site-packages\\ipykernel_launcher.py:2: FutureWarning: Categorical.from_array is deprecated, use Categorical instead\n",
      "  \n"
     ]
    },
    {
     "data": {
      "image/png": "[encoded data removed]",
      "text/plain": [
       "<matplotlib.figure.Figure at 0x1a50b9db630>"
      ]
     },
     "metadata": {},
     "output_type": "display_data"
    }
   ],
   "source": [
    "\n",
    "# Listing 3-16\n",
    "# requires packages: matplotlib\n",
    "# require object: av (3-5), factor_col (3-10)\n",
    "# See corresponding output in Figure 3-7\n",
    "plt.axes(frameon=0) # reduce chart junk\n",
    "factor_col(av['Risk']).plot(kind='bar', rot=0, \n",
    "           title=\"Summary By 'Risk'\", figsize=(8,5)).grid(False)"
   ]
  },
  {
   "cell_type": "code",
   "execution_count": 10,
   "metadata": {},
   "outputs": [
    {
     "data": {
      "text/plain": [
       "CN    0.265182\n",
       "US    0.194826\n",
       "TR    0.053970\n",
       "DE    0.038484\n",
       "NL    0.030666\n",
       "RU    0.024537\n",
       "GB    0.024332\n",
       "IN    0.021189\n",
       "FR    0.021069\n",
       "Name: Country, dtype: float64"
      ]
     },
     "execution_count": 10,
     "metadata": {},
     "output_type": "execute_result"
    }
   ],
   "source": [
    "top10 = pd.value_counts(av['Country'])[0:9]\n",
    "top10.astype(float) / len (av['Country'])"
   ]
  },
  {
   "cell_type": "code",
   "execution_count": 11,
   "metadata": {},
   "outputs": [
    {
     "name": "stdout",
     "output_type": "stream",
     "text": [
      "Reliability    1       2     3      4   5     6    7   8    9   10\n",
      "Risk                                                              \n",
      "1               0       0    16      7   0     8    8   0    0   0\n",
      "2             804  149114  3670  57653   4  2084   85  11  345  82\n",
      "3            2225       3  6668  22168   2  2151  156   7  260  79\n",
      "4            2129       0   481   6447   0   404   43   2   58  24\n",
      "5             432       0    55    700   1   103    5   1   20  11\n",
      "6              19       0     2     60   0     8    0   0    1   0\n",
      "7               3       0     0      5   0     0    0   0    2   0\n"
     ]
    },
    {
     "data": {
      "text/plain": [
       "<matplotlib.colorbar.Colorbar at 0x1a50bb19588>"
      ]
     },
     "execution_count": 11,
     "metadata": {},
     "output_type": "execute_result"
    },
    {
     "data": {
      "image/png": "[encoded data removed]",
      "text/plain": [
       "<matplotlib.figure.Figure at 0x1a50baae5f8>"
      ]
     },
     "metadata": {},
     "output_type": "display_data"
    }
   ],
   "source": [
    "from matplotlib import cm\n",
    "from numpy import arange\n",
    "\n",
    "print(pd.crosstab(av['Risk'], av['Reliability']).to_string())\n",
    "## Reliability    1       2     3      4   5     6    7   8    9   10\n",
    "## Risk                                                              \n",
    "## 1               0       0    16      7   0     8    8   0    0   0\n",
    "## 2             804  149114  3670  57653   4  2084   85  11  345  82\n",
    "## 3            2225       3  6668  22168   2  2151  156   7  260  79\n",
    "## 4            2129       0   481   6447   0   404   43   2   58  24\n",
    "## 5             432       0    55    700   1   103    5   1   20  11\n",
    "## 6              19       0     2     60   0     8    0   0    1   0\n",
    "## 7               3       0     0      5   0     0    0   0    2   0\n",
    "\n",
    "\n",
    "# graphical view of contingency table (swapping risk/reliability)\n",
    "xtab = pd.crosstab(av['Reliability'], av['Risk'])\n",
    "plt.pcolor(xtab,cmap=cm.Greens)\n",
    "plt.yticks(arange(0.5,len(xtab.index), 1),xtab.index)\n",
    "plt.xticks(arange(0.5,len(xtab.columns), 1),xtab.columns)\n",
    "plt.colorbar()\n",
    "\n"
   ]
  },
  {
   "cell_type": "code",
   "execution_count": 57,
   "metadata": {},
   "outputs": [
    {
     "data": {
      "image/png": "[encoded data removed]",
      "text/plain": [
       "<matplotlib.figure.Figure at 0x1a51a529240>"
      ]
     },
     "metadata": {},
     "output_type": "display_data"
    }
   ],
   "source": [
    "# Listing 3-23\n",
    "# require object: av (3-5)\n",
    "# See corresponding output in Figure 3-9\n",
    "# compute contingency table for Risk/Reliability factors which \n",
    "# produces a matrix of counts of rows that have attributes at\n",
    "\n",
    "# create new column as a copy of Type column\n",
    "av['newtype'] = av['Type']\n",
    "\n",
    "# replace multi-Type entries with “Multiples”\n",
    "av[av['newtype'].str.contains(\";\")] = \"Multiples\"\n",
    "\n",
    "# setup new crosstab structures\n",
    "typ = av['newtype']\n",
    "rel = av['Reliability'].apply(str)\n",
    "rsk = av['Risk'].apply(str)\n",
    "\n",
    "# compute crosstab making it split on the\n",
    "# new “type” column\n",
    "xtab = pd.crosstab(typ, [ rel, rsk ], \n",
    "          rownames=['typ'], colnames=['rel', 'rsk'],normalize =0)\n",
    "\n",
    "\n",
    "# the following print statement will show a huge text\n",
    "# representation of the contingency table. The output\n",
    "# is too large for the book, but is worth looking at \n",
    "# as you run through the exercise to see how useful \n",
    "# visualizations can be over raw text/numeric output\n",
    "#print (xtab.to_string()) #output not shown\n",
    "\n",
    "xtab.plot(kind='bar',legend=False,\n",
    "   title=\"Risk ~ Reliabilty | Type\").grid(False)"
   ]
  },
  {
   "cell_type": "code",
   "execution_count": null,
   "metadata": {},
   "outputs": [],
   "source": []
  }
 ],
 "metadata": {
  "kernelspec": {
   "display_name": "Python 2",
   "language": "python",
   "name": "python2"
  },
  "language_info": {
   "codemirror_mode": {
    "name": "ipython",
    "version": 2
   },
   "file_extension": ".py",
   "mimetype": "text/x-python",
   "name": "python",
   "nbconvert_exporter": "python",
   "pygments_lexer": "ipython2",
   "version": "2.7.14"
  }
 },
 "nbformat": 4,
 "nbformat_minor": 2
}
