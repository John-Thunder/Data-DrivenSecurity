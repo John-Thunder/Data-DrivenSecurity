{
 "cells": [
  {
   "cell_type": "code",
   "execution_count": 1,
   "metadata": {},
   "outputs": [
    {
     "data": {
      "text/html": [
       "<div>\n",
       "<style scoped>\n",
       "    .dataframe tbody tr th:only-of-type {\n",
       "        vertical-align: middle;\n",
       "    }\n",
       "\n",
       "    .dataframe tbody tr th {\n",
       "        vertical-align: top;\n",
       "    }\n",
       "\n",
       "    .dataframe thead th {\n",
       "        text-align: right;\n",
       "    }\n",
       "</style>\n",
       "<table border=\"1\" class=\"dataframe\">\n",
       "  <thead>\n",
       "    <tr style=\"text-align: right;\">\n",
       "      <th></th>\n",
       "      <th>proc</th>\n",
       "      <th>mem</th>\n",
       "    </tr>\n",
       "  </thead>\n",
       "  <tbody>\n",
       "    <tr>\n",
       "      <th>count</th>\n",
       "      <td>247.000000</td>\n",
       "      <td>247.000000</td>\n",
       "    </tr>\n",
       "    <tr>\n",
       "      <th>mean</th>\n",
       "      <td>-0.428731</td>\n",
       "      <td>-0.518138</td>\n",
       "    </tr>\n",
       "    <tr>\n",
       "      <th>std</th>\n",
       "      <td>1.228676</td>\n",
       "      <td>1.311917</td>\n",
       "    </tr>\n",
       "    <tr>\n",
       "      <th>min</th>\n",
       "      <td>-3.151675</td>\n",
       "      <td>-3.593867</td>\n",
       "    </tr>\n",
       "    <tr>\n",
       "      <th>25%</th>\n",
       "      <td>-1.205594</td>\n",
       "      <td>-1.420167</td>\n",
       "    </tr>\n",
       "    <tr>\n",
       "      <th>50%</th>\n",
       "      <td>-0.448406</td>\n",
       "      <td>-0.621155</td>\n",
       "    </tr>\n",
       "    <tr>\n",
       "      <th>75%</th>\n",
       "      <td>0.368877</td>\n",
       "      <td>0.241259</td>\n",
       "    </tr>\n",
       "    <tr>\n",
       "      <th>max</th>\n",
       "      <td>3.142826</td>\n",
       "      <td>3.218415</td>\n",
       "    </tr>\n",
       "  </tbody>\n",
       "</table>\n",
       "</div>"
      ],
      "text/plain": [
       "             proc         mem\n",
       "count  247.000000  247.000000\n",
       "mean    -0.428731   -0.518138\n",
       "std      1.228676    1.311917\n",
       "min     -3.151675   -3.593867\n",
       "25%     -1.205594   -1.420167\n",
       "50%     -0.448406   -0.621155\n",
       "75%      0.368877    0.241259\n",
       "max      3.142826    3.218415"
      ]
     },
     "execution_count": 1,
     "metadata": {},
     "output_type": "execute_result"
    }
   ],
   "source": [
    "%matplotlib inline\n",
    "import os\n",
    "import sys\n",
    "import matplotlib.pyplot as plt\n",
    "import pandas as pd\n",
    "memproc = \"book/ch09/data/memproc.csv\"\n",
    "av_memproc = pd.read_csv(memproc, sep=\",\")\n",
    "av_memproc.describe()"
   ]
  },
  {
   "cell_type": "code",
   "execution_count": 7,
   "metadata": {},
   "outputs": [
    {
     "data": {
      "image/png": "[encoded data removed]",
      "text/plain": [
       "<matplotlib.figure.Figure at 0x23ea2d22160>"
      ]
     },
     "metadata": {},
     "output_type": "display_data"
    }
   ],
   "source": [
    "import numpy as np\n",
    "nor_set = av_memproc.loc[av_memproc['state']=='Normal']\n",
    "inf_set= av_memproc.loc[av_memproc['state']=='Infected']\n",
    "ax = test1.plot.scatter(x='proc',y='mem',color='DarkBlue',label='Normal')\n",
    "test2.plot.scatter(x='proc',y='mem',color='LightGreen',label='Infected',ax=ax)\n",
    "plt.show()\n"
   ]
  },
  {
   "cell_type": "code",
   "execution_count": 18,
   "metadata": {},
   "outputs": [
    {
     "data": {
      "text/plain": [
       "62    -1.586381\n",
       "23     0.908639\n",
       "169    2.007416\n",
       "29    -0.466349\n",
       "122    0.101343\n",
       "174   -0.703566\n",
       "0     -1.735788\n",
       "218   -2.676003\n",
       "161   -0.499469\n",
       "32    -1.164850\n",
       "40     1.201609\n",
       "222    0.886371\n",
       "148   -0.507614\n",
       "91     0.585734\n",
       "163   -0.868905\n",
       "102    0.384305\n",
       "168   -1.153671\n",
       "53    -0.338572\n",
       "66    -0.923860\n",
       "147   -2.832291\n",
       "234   -1.184544\n",
       "244    0.410152\n",
       "175   -1.082686\n",
       "31     0.500086\n",
       "7      1.896578\n",
       "240   -1.427218\n",
       "146   -1.219105\n",
       "142    2.051580\n",
       "84    -0.163263\n",
       "183   -0.701091\n",
       "         ...   \n",
       "195    0.734096\n",
       "25     0.540876\n",
       "128   -0.654099\n",
       "220   -0.288759\n",
       "99    -1.727624\n",
       "157   -0.575974\n",
       "52     1.326048\n",
       "190   -0.891375\n",
       "21    -0.397209\n",
       "216   -1.037208\n",
       "2     -1.102691\n",
       "95     0.024387\n",
       "208    0.039652\n",
       "24    -0.929653\n",
       "136   -0.223083\n",
       "80     1.497183\n",
       "78     1.015913\n",
       "22    -0.126401\n",
       "114   -0.255908\n",
       "101    0.955506\n",
       "229    2.084723\n",
       "197   -1.457856\n",
       "219   -1.837446\n",
       "204    1.372430\n",
       "60     0.953075\n",
       "236   -1.482451\n",
       "129   -0.042742\n",
       "217   -0.066644\n",
       "187   -1.519754\n",
       "120   -2.379508\n",
       "Name: proc, Length: 185, dtype: float64"
      ]
     },
     "execution_count": 18,
     "metadata": {},
     "output_type": "execute_result"
    }
   ],
   "source": [
    "from sklearn import datasets\n",
    "from sklearn.model_selection import train_test_split\n",
    "X_train, X_test, y_train, y_test = train_test_split(av_memproc['proc'],av_memproc['mem'], test_size=0.25)\n",
    "X_train"
   ]
  },
  {
   "cell_type": "code",
   "execution_count": null,
   "metadata": {},
   "outputs": [],
   "source": []
  }
 ],
 "metadata": {
  "kernelspec": {
   "display_name": "Python 3",
   "language": "python",
   "name": "python3"
  },
  "language_info": {
   "codemirror_mode": {
    "name": "ipython",
    "version": 3
   },
   "file_extension": ".py",
   "mimetype": "text/x-python",
   "name": "python",
   "nbconvert_exporter": "python",
   "pygments_lexer": "ipython3",
   "version": "3.6.4"
  }
 },
 "nbformat": 4,
 "nbformat_minor": 2
}
